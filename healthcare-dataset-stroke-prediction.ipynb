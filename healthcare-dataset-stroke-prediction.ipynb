{
 "cells": [
  {
   "cell_type": "markdown",
   "metadata": {
    "papermill": {
     "duration": 0.038881,
     "end_time": "2021-03-22T17:12:20.541756",
     "exception": false,
     "start_time": "2021-03-22T17:12:20.502875",
     "status": "completed"
    },
    "tags": []
   },
   "source": [
    " # Dataset Information.\n",
    "##### 1) id: unique identifier\n",
    "##### 2) gender: \"Male\", \"Female\" or \"Other\"\n",
    "##### 3) age: age of the patient\n",
    "##### 4) hypertension: 0 if the patient doesn't have hypertension, 1 if the patient has hypertension\n",
    "##### 5) heart_disease: 0 if the patient doesn't have any heart diseases, 1 if the patient has a heart disease\n",
    "##### 6) ever_married: \"No\" or \"Yes\"\n",
    "##### 7) work_type: \"children\", \"Govt_jov\", \"Never_worked\", \"Private\" or \"Self-employed\"\n",
    "##### 8) Residence_type: \"Rural\" or \"Urban\"\n",
    "##### 9) avg_glucose_level: average glucose level in blood\n",
    "##### 10) bmi: body mass index\n",
    "##### 11) smoking_status: \"formerly smoked\", \"never smoked\", \"smokes\" or \"Unknown\"*\n",
    "##### 12) stroke: 1 if the patient had a stroke or 0 if not"
   ]
  },
  {
   "cell_type": "code",
   "execution_count": 1,
   "metadata": {
    "execution": {
     "iopub.execute_input": "2021-03-22T17:12:20.628922Z",
     "iopub.status.busy": "2021-03-22T17:12:20.628157Z",
     "iopub.status.idle": "2021-03-22T17:12:20.632397Z",
     "shell.execute_reply": "2021-03-22T17:12:20.632883Z"
    },
    "papermill": {
     "duration": 0.053261,
     "end_time": "2021-03-22T17:12:20.633221",
     "exception": false,
     "start_time": "2021-03-22T17:12:20.579960",
     "status": "completed"
    },
    "tags": []
   },
   "outputs": [],
   "source": [
    "import warnings \n",
    "warnings.filterwarnings('ignore')"
   ]
  },
  {
   "cell_type": "code",
   "execution_count": 2,
   "metadata": {
    "execution": {
     "iopub.execute_input": "2021-03-22T17:12:20.712045Z",
     "iopub.status.busy": "2021-03-22T17:12:20.711264Z",
     "iopub.status.idle": "2021-03-22T17:12:20.750705Z",
     "shell.execute_reply": "2021-03-22T17:12:20.749973Z"
    },
    "papermill": {
     "duration": 0.081361,
     "end_time": "2021-03-22T17:12:20.750856",
     "exception": false,
     "start_time": "2021-03-22T17:12:20.669495",
     "status": "completed"
    },
    "tags": []
   },
   "outputs": [],
   "source": [
    "#Reading the data\n",
    "import pandas as pd\n",
    "df = pd.read_csv('../input/stroke-prediction-dataset/healthcare-dataset-stroke-data.csv')\n"
   ]
  },
  {
   "cell_type": "code",
   "execution_count": 3,
   "metadata": {
    "execution": {
     "iopub.execute_input": "2021-03-22T17:12:20.843309Z",
     "iopub.status.busy": "2021-03-22T17:12:20.842351Z",
     "iopub.status.idle": "2021-03-22T17:12:20.874399Z",
     "shell.execute_reply": "2021-03-22T17:12:20.873761Z"
    },
    "papermill": {
     "duration": 0.087063,
     "end_time": "2021-03-22T17:12:20.874548",
     "exception": false,
     "start_time": "2021-03-22T17:12:20.787485",
     "status": "completed"
    },
    "tags": []
   },
   "outputs": [
    {
     "data": {
      "text/html": [
       "<div>\n",
       "<style scoped>\n",
       "    .dataframe tbody tr th:only-of-type {\n",
       "        vertical-align: middle;\n",
       "    }\n",
       "\n",
       "    .dataframe tbody tr th {\n",
       "        vertical-align: top;\n",
       "    }\n",
       "\n",
       "    .dataframe thead th {\n",
       "        text-align: right;\n",
       "    }\n",
       "</style>\n",
       "<table border=\"1\" class=\"dataframe\">\n",
       "  <thead>\n",
       "    <tr style=\"text-align: right;\">\n",
       "      <th></th>\n",
       "      <th>id</th>\n",
       "      <th>gender</th>\n",
       "      <th>age</th>\n",
       "      <th>hypertension</th>\n",
       "      <th>heart_disease</th>\n",
       "      <th>ever_married</th>\n",
       "      <th>work_type</th>\n",
       "      <th>Residence_type</th>\n",
       "      <th>avg_glucose_level</th>\n",
       "      <th>bmi</th>\n",
       "      <th>smoking_status</th>\n",
       "      <th>stroke</th>\n",
       "    </tr>\n",
       "  </thead>\n",
       "  <tbody>\n",
       "    <tr>\n",
       "      <th>0</th>\n",
       "      <td>9046</td>\n",
       "      <td>Male</td>\n",
       "      <td>67.0</td>\n",
       "      <td>0</td>\n",
       "      <td>1</td>\n",
       "      <td>Yes</td>\n",
       "      <td>Private</td>\n",
       "      <td>Urban</td>\n",
       "      <td>228.69</td>\n",
       "      <td>36.6</td>\n",
       "      <td>formerly smoked</td>\n",
       "      <td>1</td>\n",
       "    </tr>\n",
       "    <tr>\n",
       "      <th>1</th>\n",
       "      <td>51676</td>\n",
       "      <td>Female</td>\n",
       "      <td>61.0</td>\n",
       "      <td>0</td>\n",
       "      <td>0</td>\n",
       "      <td>Yes</td>\n",
       "      <td>Self-employed</td>\n",
       "      <td>Rural</td>\n",
       "      <td>202.21</td>\n",
       "      <td>NaN</td>\n",
       "      <td>never smoked</td>\n",
       "      <td>1</td>\n",
       "    </tr>\n",
       "    <tr>\n",
       "      <th>2</th>\n",
       "      <td>31112</td>\n",
       "      <td>Male</td>\n",
       "      <td>80.0</td>\n",
       "      <td>0</td>\n",
       "      <td>1</td>\n",
       "      <td>Yes</td>\n",
       "      <td>Private</td>\n",
       "      <td>Rural</td>\n",
       "      <td>105.92</td>\n",
       "      <td>32.5</td>\n",
       "      <td>never smoked</td>\n",
       "      <td>1</td>\n",
       "    </tr>\n",
       "    <tr>\n",
       "      <th>3</th>\n",
       "      <td>60182</td>\n",
       "      <td>Female</td>\n",
       "      <td>49.0</td>\n",
       "      <td>0</td>\n",
       "      <td>0</td>\n",
       "      <td>Yes</td>\n",
       "      <td>Private</td>\n",
       "      <td>Urban</td>\n",
       "      <td>171.23</td>\n",
       "      <td>34.4</td>\n",
       "      <td>smokes</td>\n",
       "      <td>1</td>\n",
       "    </tr>\n",
       "    <tr>\n",
       "      <th>4</th>\n",
       "      <td>1665</td>\n",
       "      <td>Female</td>\n",
       "      <td>79.0</td>\n",
       "      <td>1</td>\n",
       "      <td>0</td>\n",
       "      <td>Yes</td>\n",
       "      <td>Self-employed</td>\n",
       "      <td>Rural</td>\n",
       "      <td>174.12</td>\n",
       "      <td>24.0</td>\n",
       "      <td>never smoked</td>\n",
       "      <td>1</td>\n",
       "    </tr>\n",
       "  </tbody>\n",
       "</table>\n",
       "</div>"
      ],
      "text/plain": [
       "      id  gender   age  hypertension  heart_disease ever_married  \\\n",
       "0   9046    Male  67.0             0              1          Yes   \n",
       "1  51676  Female  61.0             0              0          Yes   \n",
       "2  31112    Male  80.0             0              1          Yes   \n",
       "3  60182  Female  49.0             0              0          Yes   \n",
       "4   1665  Female  79.0             1              0          Yes   \n",
       "\n",
       "       work_type Residence_type  avg_glucose_level   bmi   smoking_status  \\\n",
       "0        Private          Urban             228.69  36.6  formerly smoked   \n",
       "1  Self-employed          Rural             202.21   NaN     never smoked   \n",
       "2        Private          Rural             105.92  32.5     never smoked   \n",
       "3        Private          Urban             171.23  34.4           smokes   \n",
       "4  Self-employed          Rural             174.12  24.0     never smoked   \n",
       "\n",
       "   stroke  \n",
       "0       1  \n",
       "1       1  \n",
       "2       1  \n",
       "3       1  \n",
       "4       1  "
      ]
     },
     "execution_count": 3,
     "metadata": {},
     "output_type": "execute_result"
    }
   ],
   "source": [
    "df.head()"
   ]
  },
  {
   "cell_type": "code",
   "execution_count": 4,
   "metadata": {
    "execution": {
     "iopub.execute_input": "2021-03-22T17:12:20.957343Z",
     "iopub.status.busy": "2021-03-22T17:12:20.956186Z",
     "iopub.status.idle": "2021-03-22T17:12:20.960971Z",
     "shell.execute_reply": "2021-03-22T17:12:20.960272Z"
    },
    "papermill": {
     "duration": 0.048138,
     "end_time": "2021-03-22T17:12:20.961134",
     "exception": false,
     "start_time": "2021-03-22T17:12:20.912996",
     "status": "completed"
    },
    "tags": []
   },
   "outputs": [
    {
     "data": {
      "text/plain": [
       "Index(['id', 'gender', 'age', 'hypertension', 'heart_disease', 'ever_married',\n",
       "       'work_type', 'Residence_type', 'avg_glucose_level', 'bmi',\n",
       "       'smoking_status', 'stroke'],\n",
       "      dtype='object')"
      ]
     },
     "execution_count": 4,
     "metadata": {},
     "output_type": "execute_result"
    }
   ],
   "source": [
    "df.columns"
   ]
  },
  {
   "cell_type": "code",
   "execution_count": 5,
   "metadata": {
    "execution": {
     "iopub.execute_input": "2021-03-22T17:12:21.049569Z",
     "iopub.status.busy": "2021-03-22T17:12:21.048485Z",
     "iopub.status.idle": "2021-03-22T17:12:21.053196Z",
     "shell.execute_reply": "2021-03-22T17:12:21.052578Z"
    },
    "papermill": {
     "duration": 0.054948,
     "end_time": "2021-03-22T17:12:21.053358",
     "exception": false,
     "start_time": "2021-03-22T17:12:20.998410",
     "status": "completed"
    },
    "tags": []
   },
   "outputs": [
    {
     "data": {
      "text/plain": [
       "id                     0\n",
       "gender                 0\n",
       "age                    0\n",
       "hypertension           0\n",
       "heart_disease          0\n",
       "ever_married           0\n",
       "work_type              0\n",
       "Residence_type         0\n",
       "avg_glucose_level      0\n",
       "bmi                  201\n",
       "smoking_status         0\n",
       "stroke                 0\n",
       "dtype: int64"
      ]
     },
     "execution_count": 5,
     "metadata": {},
     "output_type": "execute_result"
    }
   ],
   "source": [
    "#returns the number summation of all missing values in the data set.\n",
    "df.isnull().sum()"
   ]
  },
  {
   "cell_type": "code",
   "execution_count": 6,
   "metadata": {
    "execution": {
     "iopub.execute_input": "2021-03-22T17:12:21.134041Z",
     "iopub.status.busy": "2021-03-22T17:12:21.133343Z",
     "iopub.status.idle": "2021-03-22T17:12:21.138764Z",
     "shell.execute_reply": "2021-03-22T17:12:21.138177Z"
    },
    "papermill": {
     "duration": 0.048222,
     "end_time": "2021-03-22T17:12:21.138918",
     "exception": false,
     "start_time": "2021-03-22T17:12:21.090696",
     "status": "completed"
    },
    "tags": []
   },
   "outputs": [
    {
     "data": {
      "text/plain": [
       "(5110, 12)"
      ]
     },
     "execution_count": 6,
     "metadata": {},
     "output_type": "execute_result"
    }
   ],
   "source": [
    "#print the no. of records and features\n",
    "df.shape"
   ]
  },
  {
   "cell_type": "code",
   "execution_count": 7,
   "metadata": {
    "execution": {
     "iopub.execute_input": "2021-03-22T17:12:21.226291Z",
     "iopub.status.busy": "2021-03-22T17:12:21.225237Z",
     "iopub.status.idle": "2021-03-22T17:12:21.230261Z",
     "shell.execute_reply": "2021-03-22T17:12:21.229591Z"
    },
    "papermill": {
     "duration": 0.05216,
     "end_time": "2021-03-22T17:12:21.230424",
     "exception": false,
     "start_time": "2021-03-22T17:12:21.178264",
     "status": "completed"
    },
    "tags": []
   },
   "outputs": [
    {
     "data": {
      "text/plain": [
       "0    4861\n",
       "1     249\n",
       "Name: stroke, dtype: int64"
      ]
     },
     "execution_count": 7,
     "metadata": {},
     "output_type": "execute_result"
    }
   ],
   "source": [
    "#1 if the patient had a stroke or 0 if not\n",
    "#count of 0's and 1's\n",
    "df['stroke'].value_counts()"
   ]
  },
  {
   "cell_type": "code",
   "execution_count": 8,
   "metadata": {
    "execution": {
     "iopub.execute_input": "2021-03-22T17:12:21.313715Z",
     "iopub.status.busy": "2021-03-22T17:12:21.312689Z",
     "iopub.status.idle": "2021-03-22T17:12:21.317878Z",
     "shell.execute_reply": "2021-03-22T17:12:21.317017Z"
    },
    "papermill": {
     "duration": 0.049093,
     "end_time": "2021-03-22T17:12:21.318036",
     "exception": false,
     "start_time": "2021-03-22T17:12:21.268943",
     "status": "completed"
    },
    "tags": []
   },
   "outputs": [],
   "source": [
    "df.drop(['id'], axis='columns', inplace=True)"
   ]
  },
  {
   "cell_type": "code",
   "execution_count": 9,
   "metadata": {
    "execution": {
     "iopub.execute_input": "2021-03-22T17:12:21.402169Z",
     "iopub.status.busy": "2021-03-22T17:12:21.401260Z",
     "iopub.status.idle": "2021-03-22T17:12:21.406672Z",
     "shell.execute_reply": "2021-03-22T17:12:21.405933Z"
    },
    "papermill": {
     "duration": 0.049688,
     "end_time": "2021-03-22T17:12:21.406837",
     "exception": false,
     "start_time": "2021-03-22T17:12:21.357149",
     "status": "completed"
    },
    "tags": []
   },
   "outputs": [
    {
     "data": {
      "text/plain": [
       "Index(['gender', 'age', 'hypertension', 'heart_disease', 'ever_married',\n",
       "       'work_type', 'Residence_type', 'avg_glucose_level', 'bmi',\n",
       "       'smoking_status', 'stroke'],\n",
       "      dtype='object')"
      ]
     },
     "execution_count": 9,
     "metadata": {},
     "output_type": "execute_result"
    }
   ],
   "source": [
    "df.columns\n"
   ]
  },
  {
   "cell_type": "code",
   "execution_count": 10,
   "metadata": {
    "execution": {
     "iopub.execute_input": "2021-03-22T17:12:21.492351Z",
     "iopub.status.busy": "2021-03-22T17:12:21.491369Z",
     "iopub.status.idle": "2021-03-22T17:12:21.525240Z",
     "shell.execute_reply": "2021-03-22T17:12:21.524575Z"
    },
    "papermill": {
     "duration": 0.079524,
     "end_time": "2021-03-22T17:12:21.525421",
     "exception": false,
     "start_time": "2021-03-22T17:12:21.445897",
     "status": "completed"
    },
    "tags": []
   },
   "outputs": [
    {
     "data": {
      "text/html": [
       "<div>\n",
       "<style scoped>\n",
       "    .dataframe tbody tr th:only-of-type {\n",
       "        vertical-align: middle;\n",
       "    }\n",
       "\n",
       "    .dataframe tbody tr th {\n",
       "        vertical-align: top;\n",
       "    }\n",
       "\n",
       "    .dataframe thead th {\n",
       "        text-align: right;\n",
       "    }\n",
       "</style>\n",
       "<table border=\"1\" class=\"dataframe\">\n",
       "  <thead>\n",
       "    <tr style=\"text-align: right;\">\n",
       "      <th></th>\n",
       "      <th>age</th>\n",
       "      <th>hypertension</th>\n",
       "      <th>heart_disease</th>\n",
       "      <th>avg_glucose_level</th>\n",
       "      <th>bmi</th>\n",
       "      <th>stroke</th>\n",
       "    </tr>\n",
       "  </thead>\n",
       "  <tbody>\n",
       "    <tr>\n",
       "      <th>count</th>\n",
       "      <td>5110.000000</td>\n",
       "      <td>5110.000000</td>\n",
       "      <td>5110.000000</td>\n",
       "      <td>5110.000000</td>\n",
       "      <td>4909.000000</td>\n",
       "      <td>5110.000000</td>\n",
       "    </tr>\n",
       "    <tr>\n",
       "      <th>mean</th>\n",
       "      <td>43.226614</td>\n",
       "      <td>0.097456</td>\n",
       "      <td>0.054012</td>\n",
       "      <td>106.147677</td>\n",
       "      <td>28.893237</td>\n",
       "      <td>0.048728</td>\n",
       "    </tr>\n",
       "    <tr>\n",
       "      <th>std</th>\n",
       "      <td>22.612647</td>\n",
       "      <td>0.296607</td>\n",
       "      <td>0.226063</td>\n",
       "      <td>45.283560</td>\n",
       "      <td>7.854067</td>\n",
       "      <td>0.215320</td>\n",
       "    </tr>\n",
       "    <tr>\n",
       "      <th>min</th>\n",
       "      <td>0.080000</td>\n",
       "      <td>0.000000</td>\n",
       "      <td>0.000000</td>\n",
       "      <td>55.120000</td>\n",
       "      <td>10.300000</td>\n",
       "      <td>0.000000</td>\n",
       "    </tr>\n",
       "    <tr>\n",
       "      <th>25%</th>\n",
       "      <td>25.000000</td>\n",
       "      <td>0.000000</td>\n",
       "      <td>0.000000</td>\n",
       "      <td>77.245000</td>\n",
       "      <td>23.500000</td>\n",
       "      <td>0.000000</td>\n",
       "    </tr>\n",
       "    <tr>\n",
       "      <th>50%</th>\n",
       "      <td>45.000000</td>\n",
       "      <td>0.000000</td>\n",
       "      <td>0.000000</td>\n",
       "      <td>91.885000</td>\n",
       "      <td>28.100000</td>\n",
       "      <td>0.000000</td>\n",
       "    </tr>\n",
       "    <tr>\n",
       "      <th>75%</th>\n",
       "      <td>61.000000</td>\n",
       "      <td>0.000000</td>\n",
       "      <td>0.000000</td>\n",
       "      <td>114.090000</td>\n",
       "      <td>33.100000</td>\n",
       "      <td>0.000000</td>\n",
       "    </tr>\n",
       "    <tr>\n",
       "      <th>max</th>\n",
       "      <td>82.000000</td>\n",
       "      <td>1.000000</td>\n",
       "      <td>1.000000</td>\n",
       "      <td>271.740000</td>\n",
       "      <td>97.600000</td>\n",
       "      <td>1.000000</td>\n",
       "    </tr>\n",
       "  </tbody>\n",
       "</table>\n",
       "</div>"
      ],
      "text/plain": [
       "               age  hypertension  heart_disease  avg_glucose_level  \\\n",
       "count  5110.000000   5110.000000    5110.000000        5110.000000   \n",
       "mean     43.226614      0.097456       0.054012         106.147677   \n",
       "std      22.612647      0.296607       0.226063          45.283560   \n",
       "min       0.080000      0.000000       0.000000          55.120000   \n",
       "25%      25.000000      0.000000       0.000000          77.245000   \n",
       "50%      45.000000      0.000000       0.000000          91.885000   \n",
       "75%      61.000000      0.000000       0.000000         114.090000   \n",
       "max      82.000000      1.000000       1.000000         271.740000   \n",
       "\n",
       "               bmi       stroke  \n",
       "count  4909.000000  5110.000000  \n",
       "mean     28.893237     0.048728  \n",
       "std       7.854067     0.215320  \n",
       "min      10.300000     0.000000  \n",
       "25%      23.500000     0.000000  \n",
       "50%      28.100000     0.000000  \n",
       "75%      33.100000     0.000000  \n",
       "max      97.600000     1.000000  "
      ]
     },
     "execution_count": 10,
     "metadata": {},
     "output_type": "execute_result"
    }
   ],
   "source": [
    "#Printing some statistical information of all the numerical features.\n",
    "df.describe()"
   ]
  },
  {
   "cell_type": "code",
   "execution_count": 11,
   "metadata": {
    "execution": {
     "iopub.execute_input": "2021-03-22T17:12:21.619960Z",
     "iopub.status.busy": "2021-03-22T17:12:21.619142Z",
     "iopub.status.idle": "2021-03-22T17:12:21.622704Z",
     "shell.execute_reply": "2021-03-22T17:12:21.622060Z"
    },
    "papermill": {
     "duration": 0.057649,
     "end_time": "2021-03-22T17:12:21.622844",
     "exception": false,
     "start_time": "2021-03-22T17:12:21.565195",
     "status": "completed"
    },
    "tags": []
   },
   "outputs": [],
   "source": [
    "df['age']=df['age'].apply(lambda x: round(x))"
   ]
  },
  {
   "cell_type": "code",
   "execution_count": 12,
   "metadata": {
    "execution": {
     "iopub.execute_input": "2021-03-22T17:12:21.710130Z",
     "iopub.status.busy": "2021-03-22T17:12:21.709182Z",
     "iopub.status.idle": "2021-03-22T17:12:21.713986Z",
     "shell.execute_reply": "2021-03-22T17:12:21.713442Z"
    },
    "papermill": {
     "duration": 0.051494,
     "end_time": "2021-03-22T17:12:21.714124",
     "exception": false,
     "start_time": "2021-03-22T17:12:21.662630",
     "status": "completed"
    },
    "tags": []
   },
   "outputs": [
    {
     "data": {
      "text/plain": [
       "0    67\n",
       "1    61\n",
       "2    80\n",
       "3    49\n",
       "4    79\n",
       "Name: age, dtype: int64"
      ]
     },
     "execution_count": 12,
     "metadata": {},
     "output_type": "execute_result"
    }
   ],
   "source": [
    "df['age'][:5]"
   ]
  },
  {
   "cell_type": "code",
   "execution_count": 13,
   "metadata": {
    "execution": {
     "iopub.execute_input": "2021-03-22T17:12:21.801730Z",
     "iopub.status.busy": "2021-03-22T17:12:21.801039Z",
     "iopub.status.idle": "2021-03-22T17:12:21.804035Z",
     "shell.execute_reply": "2021-03-22T17:12:21.804555Z"
    },
    "papermill": {
     "duration": 0.04956,
     "end_time": "2021-03-22T17:12:21.804879",
     "exception": false,
     "start_time": "2021-03-22T17:12:21.755319",
     "status": "completed"
    },
    "tags": []
   },
   "outputs": [
    {
     "data": {
      "text/plain": [
       "201"
      ]
     },
     "execution_count": 13,
     "metadata": {},
     "output_type": "execute_result"
    }
   ],
   "source": [
    "df['bmi'].isnull().sum()"
   ]
  },
  {
   "cell_type": "code",
   "execution_count": 14,
   "metadata": {
    "execution": {
     "iopub.execute_input": "2021-03-22T17:12:21.892434Z",
     "iopub.status.busy": "2021-03-22T17:12:21.891620Z",
     "iopub.status.idle": "2021-03-22T17:12:23.001384Z",
     "shell.execute_reply": "2021-03-22T17:12:22.999289Z"
    },
    "papermill": {
     "duration": 1.153901,
     "end_time": "2021-03-22T17:12:23.001580",
     "exception": false,
     "start_time": "2021-03-22T17:12:21.847679",
     "status": "completed"
    },
    "tags": []
   },
   "outputs": [],
   "source": [
    "import matplotlib.pyplot as plt\n",
    "import seaborn as sns\n",
    "%matplotlib inline\n",
    "\n"
   ]
  },
  {
   "cell_type": "code",
   "execution_count": 15,
   "metadata": {
    "execution": {
     "iopub.execute_input": "2021-03-22T17:12:23.123768Z",
     "iopub.status.busy": "2021-03-22T17:12:23.115220Z",
     "iopub.status.idle": "2021-03-22T17:12:23.255482Z",
     "shell.execute_reply": "2021-03-22T17:12:23.254836Z"
    },
    "papermill": {
     "duration": 0.207325,
     "end_time": "2021-03-22T17:12:23.255630",
     "exception": false,
     "start_time": "2021-03-22T17:12:23.048305",
     "status": "completed"
    },
    "tags": []
   },
   "outputs": [
    {
     "data": {
      "image/png": "[encoded data removed]",
      "text/plain": [
       "<Figure size 432x288 with 1 Axes>"
      ]
     },
     "metadata": {
      "needs_background": "light"
     },
     "output_type": "display_data"
    }
   ],
   "source": [
    "#A boxplot is a standardized way of displaying the distribution of data\n",
    "#It can tell  about the outliers and what their values in the data sets.\n",
    "sns.boxplot(df['bmi'])\n",
    "plt.show()"
   ]
  },
  {
   "cell_type": "code",
   "execution_count": 16,
   "metadata": {
    "execution": {
     "iopub.execute_input": "2021-03-22T17:12:23.346250Z",
     "iopub.status.busy": "2021-03-22T17:12:23.345564Z",
     "iopub.status.idle": "2021-03-22T17:12:23.349064Z",
     "shell.execute_reply": "2021-03-22T17:12:23.348316Z"
    },
    "papermill": {
     "duration": 0.05177,
     "end_time": "2021-03-22T17:12:23.349240",
     "exception": false,
     "start_time": "2021-03-22T17:12:23.297470",
     "status": "completed"
    },
    "tags": []
   },
   "outputs": [],
   "source": [
    "#filling the NaN values in df['bmi'] column with the mean value of df['bmi']\n",
    "df['bmi']=df['bmi'].fillna(df['bmi'].mean())"
   ]
  },
  {
   "cell_type": "code",
   "execution_count": 17,
   "metadata": {
    "execution": {
     "iopub.execute_input": "2021-03-22T17:12:23.441437Z",
     "iopub.status.busy": "2021-03-22T17:12:23.440728Z",
     "iopub.status.idle": "2021-03-22T17:12:23.443849Z",
     "shell.execute_reply": "2021-03-22T17:12:23.444413Z"
    },
    "papermill": {
     "duration": 0.052029,
     "end_time": "2021-03-22T17:12:23.444589",
     "exception": false,
     "start_time": "2021-03-22T17:12:23.392560",
     "status": "completed"
    },
    "tags": []
   },
   "outputs": [
    {
     "data": {
      "text/plain": [
       "0"
      ]
     },
     "execution_count": 17,
     "metadata": {},
     "output_type": "execute_result"
    }
   ],
   "source": [
    "df['bmi'].isnull().sum()"
   ]
  },
  {
   "cell_type": "code",
   "execution_count": 18,
   "metadata": {
    "execution": {
     "iopub.execute_input": "2021-03-22T17:12:23.533313Z",
     "iopub.status.busy": "2021-03-22T17:12:23.532660Z",
     "iopub.status.idle": "2021-03-22T17:12:23.647762Z",
     "shell.execute_reply": "2021-03-22T17:12:23.648262Z"
    },
    "papermill": {
     "duration": 0.161848,
     "end_time": "2021-03-22T17:12:23.648461",
     "exception": false,
     "start_time": "2021-03-22T17:12:23.486613",
     "status": "completed"
    },
    "tags": []
   },
   "outputs": [
    {
     "data": {
      "image/png": "[encoded data removed]",
      "text/plain": [
       "<Figure size 432x288 with 1 Axes>"
      ]
     },
     "metadata": {
      "needs_background": "light"
     },
     "output_type": "display_data"
    }
   ],
   "source": [
    "sns.boxplot(df['avg_glucose_level'])\n",
    "plt.show()\n"
   ]
  },
  {
   "cell_type": "code",
   "execution_count": 19,
   "metadata": {
    "execution": {
     "iopub.execute_input": "2021-03-22T17:12:23.739947Z",
     "iopub.status.busy": "2021-03-22T17:12:23.739074Z",
     "iopub.status.idle": "2021-03-22T17:12:23.760020Z",
     "shell.execute_reply": "2021-03-22T17:12:23.759165Z"
    },
    "papermill": {
     "duration": 0.069111,
     "end_time": "2021-03-22T17:12:23.760177",
     "exception": false,
     "start_time": "2021-03-22T17:12:23.691066",
     "status": "completed"
    },
    "tags": []
   },
   "outputs": [
    {
     "name": "stdout",
     "output_type": "stream",
     "text": [
      "<class 'pandas.core.frame.DataFrame'>\n",
      "RangeIndex: 5110 entries, 0 to 5109\n",
      "Data columns (total 11 columns):\n",
      " #   Column             Non-Null Count  Dtype  \n",
      "---  ------             --------------  -----  \n",
      " 0   gender             5110 non-null   object \n",
      " 1   age                5110 non-null   int64  \n",
      " 2   hypertension       5110 non-null   int64  \n",
      " 3   heart_disease      5110 non-null   int64  \n",
      " 4   ever_married       5110 non-null   object \n",
      " 5   work_type          5110 non-null   object \n",
      " 6   Residence_type     5110 non-null   object \n",
      " 7   avg_glucose_level  5110 non-null   float64\n",
      " 8   bmi                5110 non-null   float64\n",
      " 9   smoking_status     5110 non-null   object \n",
      " 10  stroke             5110 non-null   int64  \n",
      "dtypes: float64(2), int64(4), object(5)\n",
      "memory usage: 439.3+ KB\n"
     ]
    }
   ],
   "source": [
    "# info() function is used to print a concise summary of a DataFrame\n",
    "df.info()"
   ]
  },
  {
   "cell_type": "code",
   "execution_count": 20,
   "metadata": {
    "execution": {
     "iopub.execute_input": "2021-03-22T17:12:23.855686Z",
     "iopub.status.busy": "2021-03-22T17:12:23.854645Z",
     "iopub.status.idle": "2021-03-22T17:12:23.866678Z",
     "shell.execute_reply": "2021-03-22T17:12:23.867179Z"
    },
    "papermill": {
     "duration": 0.063753,
     "end_time": "2021-03-22T17:12:23.867390",
     "exception": false,
     "start_time": "2021-03-22T17:12:23.803637",
     "status": "completed"
    },
    "tags": []
   },
   "outputs": [
    {
     "name": "stdout",
     "output_type": "stream",
     "text": [
      "gender: unique elements | ['Male' 'Female' 'Other']\n",
      "ever_married: unique elements | ['Yes' 'No']\n",
      "work_type: unique elements | ['Private' 'Self-employed' 'Govt_job' 'children' 'Never_worked']\n",
      "Residence_type: unique elements | ['Urban' 'Rural']\n",
      "smoking_status: unique elements | ['formerly smoked' 'never smoked' 'smokes' 'Unknown']\n"
     ]
    }
   ],
   "source": [
    "#The unique element present in all the categorical features\n",
    "col=df[['gender','ever_married','work_type','Residence_type','smoking_status']]\n",
    "for i in col:\n",
    "    print(f'{i}: unique elements | {col[i].unique()}')"
   ]
  },
  {
   "cell_type": "code",
   "execution_count": 21,
   "metadata": {
    "execution": {
     "iopub.execute_input": "2021-03-22T17:12:24.044849Z",
     "iopub.status.busy": "2021-03-22T17:12:24.043757Z",
     "iopub.status.idle": "2021-03-22T17:12:24.334196Z",
     "shell.execute_reply": "2021-03-22T17:12:24.333520Z"
    },
    "papermill": {
     "duration": 0.422223,
     "end_time": "2021-03-22T17:12:24.334368",
     "exception": false,
     "start_time": "2021-03-22T17:12:23.912145",
     "status": "completed"
    },
    "tags": []
   },
   "outputs": [
    {
     "data": {
      "image/png": "[encoded data removed]",
      "text/plain": [
       "<Figure size 720x360 with 1 Axes>"
      ]
     },
     "metadata": {
      "needs_background": "light"
     },
     "output_type": "display_data"
    }
   ],
   "source": [
    "plt.figure(figsize=(10,5))\n",
    "plt.scatter(x='bmi',y='age', data=df[df['stroke']==0])\n",
    "plt.scatter(x='bmi',y='age', data=df[df['stroke']==1], marker='*')\n",
    "\n",
    "plt.xlabel('BMI')\n",
    "plt.ylabel('Age')\n",
    "plt.title('Age Vs BMI')\n",
    "plt.legend()\n",
    "plt.show()"
   ]
  },
  {
   "cell_type": "markdown",
   "metadata": {
    "papermill": {
     "duration": 0.045216,
     "end_time": "2021-03-22T17:12:24.426806",
     "exception": false,
     "start_time": "2021-03-22T17:12:24.381590",
     "status": "completed"
    },
    "tags": []
   },
   "source": [
    "# Observation\n",
    "From the above plot, I can conclude that the patient whose age is more than 40 has the maximum possibility of getting stroke and BMI within 20 to 50."
   ]
  },
  {
   "cell_type": "code",
   "execution_count": 22,
   "metadata": {
    "execution": {
     "iopub.execute_input": "2021-03-22T17:12:24.529034Z",
     "iopub.status.busy": "2021-03-22T17:12:24.527977Z",
     "iopub.status.idle": "2021-03-22T17:12:24.786725Z",
     "shell.execute_reply": "2021-03-22T17:12:24.786069Z"
    },
    "papermill": {
     "duration": 0.314421,
     "end_time": "2021-03-22T17:12:24.786899",
     "exception": false,
     "start_time": "2021-03-22T17:12:24.472478",
     "status": "completed"
    },
    "tags": []
   },
   "outputs": [
    {
     "data": {
      "image/png": "[encoded data removed]",
      "text/plain": [
       "<Figure size 720x360 with 1 Axes>"
      ]
     },
     "metadata": {
      "needs_background": "light"
     },
     "output_type": "display_data"
    }
   ],
   "source": [
    "plt.figure(figsize=(10,5))\n",
    "plt.scatter(x='bmi',y='avg_glucose_level', data=df[df['stroke']==0])\n",
    "plt.scatter(x='bmi',y='avg_glucose_level', data=df[df['stroke']==1], marker='+')\n",
    "\n",
    "plt.xlabel('BMI')\n",
    "plt.ylabel('Average glucose level')\n",
    "plt.title('Average glucose level Vs BMI')\n",
    "plt.legend()\n",
    "plt.show()"
   ]
  },
  {
   "cell_type": "markdown",
   "metadata": {
    "papermill": {
     "duration": 0.047954,
     "end_time": "2021-03-22T17:12:24.882143",
     "exception": false,
     "start_time": "2021-03-22T17:12:24.834189",
     "status": "completed"
    },
    "tags": []
   },
   "source": [
    "# Observation\n",
    "From the above plot, I can conclude that the person having the maximum possibility of getting stroke whose BMI within 20 to 50."
   ]
  },
  {
   "cell_type": "code",
   "execution_count": 23,
   "metadata": {
    "execution": {
     "iopub.execute_input": "2021-03-22T17:12:24.994907Z",
     "iopub.status.busy": "2021-03-22T17:12:24.993627Z",
     "iopub.status.idle": "2021-03-22T17:12:25.280728Z",
     "shell.execute_reply": "2021-03-22T17:12:25.280083Z"
    },
    "papermill": {
     "duration": 0.350541,
     "end_time": "2021-03-22T17:12:25.280893",
     "exception": false,
     "start_time": "2021-03-22T17:12:24.930352",
     "status": "completed"
    },
    "tags": []
   },
   "outputs": [
    {
     "data": {
      "image/png": "[encoded data removed]",
      "text/plain": [
       "<Figure size 720x360 with 1 Axes>"
      ]
     },
     "metadata": {
      "needs_background": "light"
     },
     "output_type": "display_data"
    }
   ],
   "source": [
    "plt.figure(figsize=(10,5))\n",
    "plt.scatter(x='age',y='avg_glucose_level', data=df[df['stroke']==0])\n",
    "plt.scatter(x='age',y='avg_glucose_level', data=df[df['stroke']==1], marker='d')\n",
    "\n",
    "plt.xlabel('Age')\n",
    "plt.ylabel('Average glucose level')\n",
    "plt.title('Average glucose level Vs Age')\n",
    "plt.legend()\n",
    "plt.show()"
   ]
  },
  {
   "cell_type": "markdown",
   "metadata": {
    "papermill": {
     "duration": 0.052577,
     "end_time": "2021-03-22T17:12:25.388196",
     "exception": false,
     "start_time": "2021-03-22T17:12:25.335619",
     "status": "completed"
    },
    "tags": []
   },
   "source": [
    "# Observation\n",
    "From the above plot, I can conclude that the person having the maximum possibility of getting a stroke whose Age within 40 to 80."
   ]
  },
  {
   "cell_type": "code",
   "execution_count": 24,
   "metadata": {
    "execution": {
     "iopub.execute_input": "2021-03-22T17:12:25.506634Z",
     "iopub.status.busy": "2021-03-22T17:12:25.505904Z",
     "iopub.status.idle": "2021-03-22T17:12:25.709616Z",
     "shell.execute_reply": "2021-03-22T17:12:25.708996Z"
    },
    "papermill": {
     "duration": 0.269718,
     "end_time": "2021-03-22T17:12:25.709807",
     "exception": false,
     "start_time": "2021-03-22T17:12:25.440089",
     "status": "completed"
    },
    "tags": []
   },
   "outputs": [
    {
     "data": {
      "image/png": "[encoded data removed]",
      "text/plain": [
       "<Figure size 720x360 with 1 Axes>"
      ]
     },
     "metadata": {
      "needs_background": "light"
     },
     "output_type": "display_data"
    }
   ],
   "source": [
    "plt.figure(figsize=(10,5))\n",
    "sns.set_style(style='darkgrid')\n",
    "sns.countplot(df['gender'], hue=df['stroke'],palette=\"Accent\")\n",
    "plt.show()"
   ]
  },
  {
   "cell_type": "code",
   "execution_count": 25,
   "metadata": {
    "execution": {
     "iopub.execute_input": "2021-03-22T17:12:25.815885Z",
     "iopub.status.busy": "2021-03-22T17:12:25.815035Z",
     "iopub.status.idle": "2021-03-22T17:12:26.703970Z",
     "shell.execute_reply": "2021-03-22T17:12:26.704457Z"
    },
    "papermill": {
     "duration": 0.943664,
     "end_time": "2021-03-22T17:12:26.704641",
     "exception": false,
     "start_time": "2021-03-22T17:12:25.760977",
     "status": "completed"
    },
    "tags": []
   },
   "outputs": [
    {
     "data": {
      "image/png": "[encoded data removed]",
      "text/plain": [
       "<Figure size 720x360 with 1 Axes>"
      ]
     },
     "metadata": {},
     "output_type": "display_data"
    },
    {
     "data": {
      "image/png": "[encoded data removed]",
      "text/plain": [
       "<Figure size 720x360 with 1 Axes>"
      ]
     },
     "metadata": {},
     "output_type": "display_data"
    },
    {
     "data": {
      "image/png": "[encoded data removed]",
      "text/plain": [
       "<Figure size 720x360 with 1 Axes>"
      ]
     },
     "metadata": {},
     "output_type": "display_data"
    },
    {
     "data": {
      "image/png": "[encoded data removed]",
      "text/plain": [
       "<Figure size 720x360 with 1 Axes>"
      ]
     },
     "metadata": {},
     "output_type": "display_data"
    }
   ],
   "source": [
    "plt.figure(figsize=(10,5))\n",
    "sns.set_style(style='darkgrid')\n",
    "sns.countplot(df['ever_married'], hue=df['stroke'],palette=\"magma\")\n",
    "plt.show()\n",
    "\n",
    "plt.figure(figsize=(10,5))\n",
    "sns.set_style(style='darkgrid')\n",
    "sns.countplot(df['work_type'], hue=df['stroke'],palette=\"viridis\")\n",
    "plt.show()\n",
    "\n",
    "plt.figure(figsize=(10,5))\n",
    "sns.set_style(style='darkgrid')\n",
    "sns.countplot(df['Residence_type'], hue=df['stroke'],palette=\"rocket_r\")\n",
    "plt.show()\n",
    "\n",
    "plt.figure(figsize=(10,5))\n",
    "sns.set_style(style='darkgrid')\n",
    "sns.countplot(df['smoking_status'], hue=df['stroke'],palette=\"cubehelix\")\n",
    "plt.show()"
   ]
  },
  {
   "cell_type": "code",
   "execution_count": 26,
   "metadata": {
    "execution": {
     "iopub.execute_input": "2021-03-22T17:12:26.826098Z",
     "iopub.status.busy": "2021-03-22T17:12:26.825308Z",
     "iopub.status.idle": "2021-03-22T17:12:26.830512Z",
     "shell.execute_reply": "2021-03-22T17:12:26.831102Z"
    },
    "papermill": {
     "duration": 0.072191,
     "end_time": "2021-03-22T17:12:26.831282",
     "exception": false,
     "start_time": "2021-03-22T17:12:26.759091",
     "status": "completed"
    },
    "tags": []
   },
   "outputs": [
    {
     "name": "stdout",
     "output_type": "stream",
     "text": [
      "8.999999999999996\n",
      "32.8\n",
      "23.8\n"
     ]
    }
   ],
   "source": [
    "Q1 = df['bmi'].quantile(0.25)\n",
    "Q3 = df['bmi'].quantile(0.75)\n",
    "IQR = Q3 - Q1\n",
    "print(IQR)\n",
    "print(Q3)\n",
    "print(Q1)"
   ]
  },
  {
   "cell_type": "code",
   "execution_count": 27,
   "metadata": {
    "execution": {
     "iopub.execute_input": "2021-03-22T17:12:26.948064Z",
     "iopub.status.busy": "2021-03-22T17:12:26.947304Z",
     "iopub.status.idle": "2021-03-22T17:12:26.956996Z",
     "shell.execute_reply": "2021-03-22T17:12:26.956251Z"
    },
    "papermill": {
     "duration": 0.069297,
     "end_time": "2021-03-22T17:12:26.957153",
     "exception": false,
     "start_time": "2021-03-22T17:12:26.887856",
     "status": "completed"
    },
    "tags": []
   },
   "outputs": [
    {
     "data": {
      "text/plain": [
       "(4984,)"
      ]
     },
     "execution_count": 27,
     "metadata": {},
     "output_type": "execute_result"
    }
   ],
   "source": [
    "#removing all the outlier from the dataframe\n",
    "df_numeric_remove_outlier = df['bmi'][~((df['bmi'] < (Q1 - 1.5 * IQR)) |(df['bmi'] > (Q3 + 1.5 * IQR)))]\n",
    "df_numeric_remove_outlier.shape"
   ]
  },
  {
   "cell_type": "code",
   "execution_count": 28,
   "metadata": {
    "execution": {
     "iopub.execute_input": "2021-03-22T17:12:27.080463Z",
     "iopub.status.busy": "2021-03-22T17:12:27.079384Z",
     "iopub.status.idle": "2021-03-22T17:12:27.083541Z",
     "shell.execute_reply": "2021-03-22T17:12:27.083999Z"
    },
    "papermill": {
     "duration": 0.071664,
     "end_time": "2021-03-22T17:12:27.084200",
     "exception": false,
     "start_time": "2021-03-22T17:12:27.012536",
     "status": "completed"
    },
    "tags": []
   },
   "outputs": [
    {
     "data": {
      "text/plain": [
       "0    36.600000\n",
       "1    28.893237\n",
       "2    32.500000\n",
       "3    34.400000\n",
       "4    24.000000\n",
       "Name: bmi, dtype: float64"
      ]
     },
     "execution_count": 28,
     "metadata": {},
     "output_type": "execute_result"
    }
   ],
   "source": [
    "df_numeric_remove_outlier[:5]"
   ]
  },
  {
   "cell_type": "code",
   "execution_count": 29,
   "metadata": {
    "execution": {
     "iopub.execute_input": "2021-03-22T17:12:27.205003Z",
     "iopub.status.busy": "2021-03-22T17:12:27.203726Z",
     "iopub.status.idle": "2021-03-22T17:12:27.209103Z",
     "shell.execute_reply": "2021-03-22T17:12:27.209618Z"
    },
    "papermill": {
     "duration": 0.067614,
     "end_time": "2021-03-22T17:12:27.209814",
     "exception": false,
     "start_time": "2021-03-22T17:12:27.142200",
     "status": "completed"
    },
    "tags": []
   },
   "outputs": [],
   "source": [
    "df_new=pd.DataFrame(data=df_numeric_remove_outlier)"
   ]
  },
  {
   "cell_type": "code",
   "execution_count": 30,
   "metadata": {
    "execution": {
     "iopub.execute_input": "2021-03-22T17:12:27.324054Z",
     "iopub.status.busy": "2021-03-22T17:12:27.323012Z",
     "iopub.status.idle": "2021-03-22T17:12:27.332740Z",
     "shell.execute_reply": "2021-03-22T17:12:27.333254Z"
    },
    "papermill": {
     "duration": 0.068675,
     "end_time": "2021-03-22T17:12:27.333468",
     "exception": false,
     "start_time": "2021-03-22T17:12:27.264793",
     "status": "completed"
    },
    "tags": []
   },
   "outputs": [
    {
     "data": {
      "text/html": [
       "<div>\n",
       "<style scoped>\n",
       "    .dataframe tbody tr th:only-of-type {\n",
       "        vertical-align: middle;\n",
       "    }\n",
       "\n",
       "    .dataframe tbody tr th {\n",
       "        vertical-align: top;\n",
       "    }\n",
       "\n",
       "    .dataframe thead th {\n",
       "        text-align: right;\n",
       "    }\n",
       "</style>\n",
       "<table border=\"1\" class=\"dataframe\">\n",
       "  <thead>\n",
       "    <tr style=\"text-align: right;\">\n",
       "      <th></th>\n",
       "      <th>bmi</th>\n",
       "    </tr>\n",
       "  </thead>\n",
       "  <tbody>\n",
       "    <tr>\n",
       "      <th>0</th>\n",
       "      <td>36.600000</td>\n",
       "    </tr>\n",
       "    <tr>\n",
       "      <th>1</th>\n",
       "      <td>28.893237</td>\n",
       "    </tr>\n",
       "    <tr>\n",
       "      <th>2</th>\n",
       "      <td>32.500000</td>\n",
       "    </tr>\n",
       "    <tr>\n",
       "      <th>3</th>\n",
       "      <td>34.400000</td>\n",
       "    </tr>\n",
       "    <tr>\n",
       "      <th>4</th>\n",
       "      <td>24.000000</td>\n",
       "    </tr>\n",
       "  </tbody>\n",
       "</table>\n",
       "</div>"
      ],
      "text/plain": [
       "         bmi\n",
       "0  36.600000\n",
       "1  28.893237\n",
       "2  32.500000\n",
       "3  34.400000\n",
       "4  24.000000"
      ]
     },
     "execution_count": 30,
     "metadata": {},
     "output_type": "execute_result"
    }
   ],
   "source": [
    "df_new.head()"
   ]
  },
  {
   "cell_type": "code",
   "execution_count": 31,
   "metadata": {
    "execution": {
     "iopub.execute_input": "2021-03-22T17:12:27.452714Z",
     "iopub.status.busy": "2021-03-22T17:12:27.451606Z",
     "iopub.status.idle": "2021-03-22T17:12:27.645972Z",
     "shell.execute_reply": "2021-03-22T17:12:27.646539Z"
    },
    "papermill": {
     "duration": 0.254212,
     "end_time": "2021-03-22T17:12:27.646747",
     "exception": false,
     "start_time": "2021-03-22T17:12:27.392535",
     "status": "completed"
    },
    "tags": []
   },
   "outputs": [
    {
     "data": {
      "text/plain": [
       "<AxesSubplot:xlabel='bmi'>"
      ]
     },
     "execution_count": 31,
     "metadata": {},
     "output_type": "execute_result"
    },
    {
     "data": {
      "image/png": "[encoded data removed]",
      "text/plain": [
       "<Figure size 432x288 with 1 Axes>"
      ]
     },
     "metadata": {},
     "output_type": "display_data"
    }
   ],
   "source": [
    "sns.boxplot(df_new['bmi'])"
   ]
  },
  {
   "cell_type": "code",
   "execution_count": 32,
   "metadata": {
    "execution": {
     "iopub.execute_input": "2021-03-22T17:12:27.769110Z",
     "iopub.status.busy": "2021-03-22T17:12:27.768047Z",
     "iopub.status.idle": "2021-03-22T17:12:27.777505Z",
     "shell.execute_reply": "2021-03-22T17:12:27.776803Z"
    },
    "papermill": {
     "duration": 0.069735,
     "end_time": "2021-03-22T17:12:27.777654",
     "exception": false,
     "start_time": "2021-03-22T17:12:27.707919",
     "status": "completed"
    },
    "tags": []
   },
   "outputs": [],
   "source": [
    "col=df[['gender','ever_married','work_type','Residence_type','smoking_status']]\n",
    "\n",
    "df = df[~df['gender'].isin(['Other'])]"
   ]
  },
  {
   "cell_type": "code",
   "execution_count": 33,
   "metadata": {
    "execution": {
     "iopub.execute_input": "2021-03-22T17:12:27.902400Z",
     "iopub.status.busy": "2021-03-22T17:12:27.901665Z",
     "iopub.status.idle": "2021-03-22T17:12:27.906163Z",
     "shell.execute_reply": "2021-03-22T17:12:27.906868Z"
    },
    "papermill": {
     "duration": 0.072091,
     "end_time": "2021-03-22T17:12:27.907068",
     "exception": false,
     "start_time": "2021-03-22T17:12:27.834977",
     "status": "completed"
    },
    "tags": []
   },
   "outputs": [
    {
     "data": {
      "text/plain": [
       "array(['Male', 'Female'], dtype=object)"
      ]
     },
     "execution_count": 33,
     "metadata": {},
     "output_type": "execute_result"
    }
   ],
   "source": [
    "df['gender'].unique()"
   ]
  },
  {
   "cell_type": "code",
   "execution_count": 34,
   "metadata": {
    "execution": {
     "iopub.execute_input": "2021-03-22T17:12:28.034851Z",
     "iopub.status.busy": "2021-03-22T17:12:28.034080Z",
     "iopub.status.idle": "2021-03-22T17:12:28.293052Z",
     "shell.execute_reply": "2021-03-22T17:12:28.292289Z"
    },
    "papermill": {
     "duration": 0.325647,
     "end_time": "2021-03-22T17:12:28.293215",
     "exception": false,
     "start_time": "2021-03-22T17:12:27.967568",
     "status": "completed"
    },
    "tags": []
   },
   "outputs": [],
   "source": [
    "from sklearn.preprocessing import LabelEncoder\n",
    "encoder=LabelEncoder()\n",
    "df['gender']=encoder.fit_transform(df['gender'])\n",
    "df['ever_married']=encoder.fit_transform(df['ever_married'])\n",
    "df['work_type']=encoder.fit_transform(df['work_type'])\n",
    "df['Residence_type']=encoder.fit_transform(df['Residence_type'])\n",
    "df['smoking_status']=encoder.fit_transform(df['smoking_status'])"
   ]
  },
  {
   "cell_type": "code",
   "execution_count": 35,
   "metadata": {
    "execution": {
     "iopub.execute_input": "2021-03-22T17:12:28.416140Z",
     "iopub.status.busy": "2021-03-22T17:12:28.415435Z",
     "iopub.status.idle": "2021-03-22T17:12:28.425419Z",
     "shell.execute_reply": "2021-03-22T17:12:28.424714Z"
    },
    "papermill": {
     "duration": 0.074688,
     "end_time": "2021-03-22T17:12:28.425570",
     "exception": false,
     "start_time": "2021-03-22T17:12:28.350882",
     "status": "completed"
    },
    "tags": []
   },
   "outputs": [
    {
     "name": "stdout",
     "output_type": "stream",
     "text": [
      "gender: unique elements | [1 0]\n",
      "ever_married: unique elements | [1 0]\n",
      "work_type: unique elements | [2 3 0 4 1]\n",
      "Residence_type: unique elements | [1 0]\n",
      "smoking_status: unique elements | [1 2 3 0]\n"
     ]
    }
   ],
   "source": [
    "col=df[['gender','ever_married','work_type','Residence_type','smoking_status']]\n",
    "for i in col:\n",
    "    print(f'{i}: unique elements | {col[i].unique()}')"
   ]
  },
  {
   "cell_type": "code",
   "execution_count": 36,
   "metadata": {
    "execution": {
     "iopub.execute_input": "2021-03-22T17:12:28.549833Z",
     "iopub.status.busy": "2021-03-22T17:12:28.548851Z",
     "iopub.status.idle": "2021-03-22T17:12:28.554436Z",
     "shell.execute_reply": "2021-03-22T17:12:28.553755Z"
    },
    "papermill": {
     "duration": 0.070659,
     "end_time": "2021-03-22T17:12:28.554597",
     "exception": false,
     "start_time": "2021-03-22T17:12:28.483938",
     "status": "completed"
    },
    "tags": []
   },
   "outputs": [
    {
     "data": {
      "text/plain": [
       "Index(['gender', 'ever_married', 'work_type', 'Residence_type',\n",
       "       'smoking_status'],\n",
       "      dtype='object')"
      ]
     },
     "execution_count": 36,
     "metadata": {},
     "output_type": "execute_result"
    }
   ],
   "source": [
    "col.columns"
   ]
  },
  {
   "cell_type": "code",
   "execution_count": 37,
   "metadata": {
    "execution": {
     "iopub.execute_input": "2021-03-22T17:12:28.682925Z",
     "iopub.status.busy": "2021-03-22T17:12:28.682051Z",
     "iopub.status.idle": "2021-03-22T17:12:28.686793Z",
     "shell.execute_reply": "2021-03-22T17:12:28.686008Z"
    },
    "papermill": {
     "duration": 0.07343,
     "end_time": "2021-03-22T17:12:28.686951",
     "exception": false,
     "start_time": "2021-03-22T17:12:28.613521",
     "status": "completed"
    },
    "tags": []
   },
   "outputs": [
    {
     "data": {
      "text/plain": [
       "Index(['gender', 'age', 'hypertension', 'heart_disease', 'ever_married',\n",
       "       'work_type', 'Residence_type', 'avg_glucose_level', 'bmi',\n",
       "       'smoking_status', 'stroke'],\n",
       "      dtype='object')"
      ]
     },
     "execution_count": 37,
     "metadata": {},
     "output_type": "execute_result"
    }
   ],
   "source": [
    "df.columns"
   ]
  },
  {
   "cell_type": "code",
   "execution_count": 38,
   "metadata": {
    "execution": {
     "iopub.execute_input": "2021-03-22T17:12:28.813426Z",
     "iopub.status.busy": "2021-03-22T17:12:28.812460Z",
     "iopub.status.idle": "2021-03-22T17:12:28.826838Z",
     "shell.execute_reply": "2021-03-22T17:12:28.826165Z"
    },
    "papermill": {
     "duration": 0.080254,
     "end_time": "2021-03-22T17:12:28.826995",
     "exception": false,
     "start_time": "2021-03-22T17:12:28.746741",
     "status": "completed"
    },
    "tags": []
   },
   "outputs": [],
   "source": [
    "df1=pd.concat([col,df_new,df['stroke'],df['age'],df['hypertension'],df['heart_disease'],\n",
    "              df['avg_glucose_level']],axis=1, join='inner')"
   ]
  },
  {
   "cell_type": "code",
   "execution_count": 39,
   "metadata": {
    "execution": {
     "iopub.execute_input": "2021-03-22T17:12:28.965624Z",
     "iopub.status.busy": "2021-03-22T17:12:28.959473Z",
     "iopub.status.idle": "2021-03-22T17:12:28.969163Z",
     "shell.execute_reply": "2021-03-22T17:12:28.969697Z"
    },
    "papermill": {
     "duration": 0.080147,
     "end_time": "2021-03-22T17:12:28.969878",
     "exception": false,
     "start_time": "2021-03-22T17:12:28.889731",
     "status": "completed"
    },
    "tags": []
   },
   "outputs": [
    {
     "data": {
      "text/html": [
       "<div>\n",
       "<style scoped>\n",
       "    .dataframe tbody tr th:only-of-type {\n",
       "        vertical-align: middle;\n",
       "    }\n",
       "\n",
       "    .dataframe tbody tr th {\n",
       "        vertical-align: top;\n",
       "    }\n",
       "\n",
       "    .dataframe thead th {\n",
       "        text-align: right;\n",
       "    }\n",
       "</style>\n",
       "<table border=\"1\" class=\"dataframe\">\n",
       "  <thead>\n",
       "    <tr style=\"text-align: right;\">\n",
       "      <th></th>\n",
       "      <th>gender</th>\n",
       "      <th>ever_married</th>\n",
       "      <th>work_type</th>\n",
       "      <th>Residence_type</th>\n",
       "      <th>smoking_status</th>\n",
       "      <th>bmi</th>\n",
       "      <th>stroke</th>\n",
       "      <th>age</th>\n",
       "      <th>hypertension</th>\n",
       "      <th>heart_disease</th>\n",
       "      <th>avg_glucose_level</th>\n",
       "    </tr>\n",
       "  </thead>\n",
       "  <tbody>\n",
       "    <tr>\n",
       "      <th>0</th>\n",
       "      <td>1</td>\n",
       "      <td>1</td>\n",
       "      <td>2</td>\n",
       "      <td>1</td>\n",
       "      <td>1</td>\n",
       "      <td>36.600000</td>\n",
       "      <td>1</td>\n",
       "      <td>67</td>\n",
       "      <td>0</td>\n",
       "      <td>1</td>\n",
       "      <td>228.69</td>\n",
       "    </tr>\n",
       "    <tr>\n",
       "      <th>1</th>\n",
       "      <td>0</td>\n",
       "      <td>1</td>\n",
       "      <td>3</td>\n",
       "      <td>0</td>\n",
       "      <td>2</td>\n",
       "      <td>28.893237</td>\n",
       "      <td>1</td>\n",
       "      <td>61</td>\n",
       "      <td>0</td>\n",
       "      <td>0</td>\n",
       "      <td>202.21</td>\n",
       "    </tr>\n",
       "    <tr>\n",
       "      <th>2</th>\n",
       "      <td>1</td>\n",
       "      <td>1</td>\n",
       "      <td>2</td>\n",
       "      <td>0</td>\n",
       "      <td>2</td>\n",
       "      <td>32.500000</td>\n",
       "      <td>1</td>\n",
       "      <td>80</td>\n",
       "      <td>0</td>\n",
       "      <td>1</td>\n",
       "      <td>105.92</td>\n",
       "    </tr>\n",
       "    <tr>\n",
       "      <th>3</th>\n",
       "      <td>0</td>\n",
       "      <td>1</td>\n",
       "      <td>2</td>\n",
       "      <td>1</td>\n",
       "      <td>3</td>\n",
       "      <td>34.400000</td>\n",
       "      <td>1</td>\n",
       "      <td>49</td>\n",
       "      <td>0</td>\n",
       "      <td>0</td>\n",
       "      <td>171.23</td>\n",
       "    </tr>\n",
       "    <tr>\n",
       "      <th>4</th>\n",
       "      <td>0</td>\n",
       "      <td>1</td>\n",
       "      <td>3</td>\n",
       "      <td>0</td>\n",
       "      <td>2</td>\n",
       "      <td>24.000000</td>\n",
       "      <td>1</td>\n",
       "      <td>79</td>\n",
       "      <td>1</td>\n",
       "      <td>0</td>\n",
       "      <td>174.12</td>\n",
       "    </tr>\n",
       "  </tbody>\n",
       "</table>\n",
       "</div>"
      ],
      "text/plain": [
       "   gender  ever_married  work_type  Residence_type  smoking_status        bmi  \\\n",
       "0       1             1          2               1               1  36.600000   \n",
       "1       0             1          3               0               2  28.893237   \n",
       "2       1             1          2               0               2  32.500000   \n",
       "3       0             1          2               1               3  34.400000   \n",
       "4       0             1          3               0               2  24.000000   \n",
       "\n",
       "   stroke  age  hypertension  heart_disease  avg_glucose_level  \n",
       "0       1   67             0              1             228.69  \n",
       "1       1   61             0              0             202.21  \n",
       "2       1   80             0              1             105.92  \n",
       "3       1   49             0              0             171.23  \n",
       "4       1   79             1              0             174.12  "
      ]
     },
     "execution_count": 39,
     "metadata": {},
     "output_type": "execute_result"
    }
   ],
   "source": [
    "df1.head()"
   ]
  },
  {
   "cell_type": "code",
   "execution_count": 40,
   "metadata": {
    "execution": {
     "iopub.execute_input": "2021-03-22T17:12:29.096202Z",
     "iopub.status.busy": "2021-03-22T17:12:29.095504Z",
     "iopub.status.idle": "2021-03-22T17:12:29.105339Z",
     "shell.execute_reply": "2021-03-22T17:12:29.104767Z"
    },
    "papermill": {
     "duration": 0.075345,
     "end_time": "2021-03-22T17:12:29.105502",
     "exception": false,
     "start_time": "2021-03-22T17:12:29.030157",
     "status": "completed"
    },
    "tags": []
   },
   "outputs": [
    {
     "data": {
      "text/plain": [
       "gender               0\n",
       "ever_married         0\n",
       "work_type            0\n",
       "Residence_type       0\n",
       "smoking_status       0\n",
       "bmi                  0\n",
       "stroke               0\n",
       "age                  0\n",
       "hypertension         0\n",
       "heart_disease        0\n",
       "avg_glucose_level    0\n",
       "dtype: int64"
      ]
     },
     "execution_count": 40,
     "metadata": {},
     "output_type": "execute_result"
    }
   ],
   "source": [
    "df1.isnull().sum()"
   ]
  },
  {
   "cell_type": "code",
   "execution_count": 41,
   "metadata": {
    "execution": {
     "iopub.execute_input": "2021-03-22T17:12:29.234347Z",
     "iopub.status.busy": "2021-03-22T17:12:29.233666Z",
     "iopub.status.idle": "2021-03-22T17:12:29.237009Z",
     "shell.execute_reply": "2021-03-22T17:12:29.237578Z"
    },
    "papermill": {
     "duration": 0.070332,
     "end_time": "2021-03-22T17:12:29.237770",
     "exception": false,
     "start_time": "2021-03-22T17:12:29.167438",
     "status": "completed"
    },
    "tags": []
   },
   "outputs": [
    {
     "data": {
      "text/plain": [
       "(5109, 11)"
      ]
     },
     "execution_count": 41,
     "metadata": {},
     "output_type": "execute_result"
    }
   ],
   "source": [
    "df.shape"
   ]
  },
  {
   "cell_type": "code",
   "execution_count": 42,
   "metadata": {
    "execution": {
     "iopub.execute_input": "2021-03-22T17:12:29.369689Z",
     "iopub.status.busy": "2021-03-22T17:12:29.368915Z",
     "iopub.status.idle": "2021-03-22T17:12:29.376055Z",
     "shell.execute_reply": "2021-03-22T17:12:29.375359Z"
    },
    "papermill": {
     "duration": 0.073651,
     "end_time": "2021-03-22T17:12:29.376207",
     "exception": false,
     "start_time": "2021-03-22T17:12:29.302556",
     "status": "completed"
    },
    "tags": []
   },
   "outputs": [
    {
     "data": {
      "text/plain": [
       "(4983, 11)"
      ]
     },
     "execution_count": 42,
     "metadata": {},
     "output_type": "execute_result"
    }
   ],
   "source": [
    "df1.shape"
   ]
  },
  {
   "cell_type": "code",
   "execution_count": 43,
   "metadata": {
    "execution": {
     "iopub.execute_input": "2021-03-22T17:12:29.507202Z",
     "iopub.status.busy": "2021-03-22T17:12:29.506262Z",
     "iopub.status.idle": "2021-03-22T17:12:29.520221Z",
     "shell.execute_reply": "2021-03-22T17:12:29.520761Z"
    },
    "papermill": {
     "duration": 0.083793,
     "end_time": "2021-03-22T17:12:29.520954",
     "exception": false,
     "start_time": "2021-03-22T17:12:29.437161",
     "status": "completed"
    },
    "tags": []
   },
   "outputs": [
    {
     "name": "stdout",
     "output_type": "stream",
     "text": [
      "<class 'pandas.core.frame.DataFrame'>\n",
      "Int64Index: 5109 entries, 0 to 5109\n",
      "Data columns (total 11 columns):\n",
      " #   Column             Non-Null Count  Dtype  \n",
      "---  ------             --------------  -----  \n",
      " 0   gender             5109 non-null   int64  \n",
      " 1   age                5109 non-null   int64  \n",
      " 2   hypertension       5109 non-null   int64  \n",
      " 3   heart_disease      5109 non-null   int64  \n",
      " 4   ever_married       5109 non-null   int64  \n",
      " 5   work_type          5109 non-null   int64  \n",
      " 6   Residence_type     5109 non-null   int64  \n",
      " 7   avg_glucose_level  5109 non-null   float64\n",
      " 8   bmi                5109 non-null   float64\n",
      " 9   smoking_status     5109 non-null   int64  \n",
      " 10  stroke             5109 non-null   int64  \n",
      "dtypes: float64(2), int64(9)\n",
      "memory usage: 608.0 KB\n"
     ]
    }
   ],
   "source": [
    "df.info()"
   ]
  },
  {
   "cell_type": "code",
   "execution_count": 44,
   "metadata": {
    "execution": {
     "iopub.execute_input": "2021-03-22T17:12:29.651189Z",
     "iopub.status.busy": "2021-03-22T17:12:29.650485Z",
     "iopub.status.idle": "2021-03-22T17:12:29.655911Z",
     "shell.execute_reply": "2021-03-22T17:12:29.655202Z"
    },
    "papermill": {
     "duration": 0.072981,
     "end_time": "2021-03-22T17:12:29.656057",
     "exception": false,
     "start_time": "2021-03-22T17:12:29.583076",
     "status": "completed"
    },
    "tags": []
   },
   "outputs": [],
   "source": [
    "x=df1.drop(['stroke'], axis='columns')\n",
    "y=df1['stroke']"
   ]
  },
  {
   "cell_type": "code",
   "execution_count": 45,
   "metadata": {
    "execution": {
     "iopub.execute_input": "2021-03-22T17:12:29.795373Z",
     "iopub.status.busy": "2021-03-22T17:12:29.794189Z",
     "iopub.status.idle": "2021-03-22T17:12:29.799520Z",
     "shell.execute_reply": "2021-03-22T17:12:29.798865Z"
    },
    "papermill": {
     "duration": 0.081955,
     "end_time": "2021-03-22T17:12:29.799677",
     "exception": false,
     "start_time": "2021-03-22T17:12:29.717722",
     "status": "completed"
    },
    "tags": []
   },
   "outputs": [
    {
     "data": {
      "text/html": [
       "<div>\n",
       "<style scoped>\n",
       "    .dataframe tbody tr th:only-of-type {\n",
       "        vertical-align: middle;\n",
       "    }\n",
       "\n",
       "    .dataframe tbody tr th {\n",
       "        vertical-align: top;\n",
       "    }\n",
       "\n",
       "    .dataframe thead th {\n",
       "        text-align: right;\n",
       "    }\n",
       "</style>\n",
       "<table border=\"1\" class=\"dataframe\">\n",
       "  <thead>\n",
       "    <tr style=\"text-align: right;\">\n",
       "      <th></th>\n",
       "      <th>gender</th>\n",
       "      <th>ever_married</th>\n",
       "      <th>work_type</th>\n",
       "      <th>Residence_type</th>\n",
       "      <th>smoking_status</th>\n",
       "      <th>bmi</th>\n",
       "      <th>age</th>\n",
       "      <th>hypertension</th>\n",
       "      <th>heart_disease</th>\n",
       "      <th>avg_glucose_level</th>\n",
       "    </tr>\n",
       "  </thead>\n",
       "  <tbody>\n",
       "    <tr>\n",
       "      <th>0</th>\n",
       "      <td>1</td>\n",
       "      <td>1</td>\n",
       "      <td>2</td>\n",
       "      <td>1</td>\n",
       "      <td>1</td>\n",
       "      <td>36.600000</td>\n",
       "      <td>67</td>\n",
       "      <td>0</td>\n",
       "      <td>1</td>\n",
       "      <td>228.69</td>\n",
       "    </tr>\n",
       "    <tr>\n",
       "      <th>1</th>\n",
       "      <td>0</td>\n",
       "      <td>1</td>\n",
       "      <td>3</td>\n",
       "      <td>0</td>\n",
       "      <td>2</td>\n",
       "      <td>28.893237</td>\n",
       "      <td>61</td>\n",
       "      <td>0</td>\n",
       "      <td>0</td>\n",
       "      <td>202.21</td>\n",
       "    </tr>\n",
       "    <tr>\n",
       "      <th>2</th>\n",
       "      <td>1</td>\n",
       "      <td>1</td>\n",
       "      <td>2</td>\n",
       "      <td>0</td>\n",
       "      <td>2</td>\n",
       "      <td>32.500000</td>\n",
       "      <td>80</td>\n",
       "      <td>0</td>\n",
       "      <td>1</td>\n",
       "      <td>105.92</td>\n",
       "    </tr>\n",
       "    <tr>\n",
       "      <th>3</th>\n",
       "      <td>0</td>\n",
       "      <td>1</td>\n",
       "      <td>2</td>\n",
       "      <td>1</td>\n",
       "      <td>3</td>\n",
       "      <td>34.400000</td>\n",
       "      <td>49</td>\n",
       "      <td>0</td>\n",
       "      <td>0</td>\n",
       "      <td>171.23</td>\n",
       "    </tr>\n",
       "    <tr>\n",
       "      <th>4</th>\n",
       "      <td>0</td>\n",
       "      <td>1</td>\n",
       "      <td>3</td>\n",
       "      <td>0</td>\n",
       "      <td>2</td>\n",
       "      <td>24.000000</td>\n",
       "      <td>79</td>\n",
       "      <td>1</td>\n",
       "      <td>0</td>\n",
       "      <td>174.12</td>\n",
       "    </tr>\n",
       "  </tbody>\n",
       "</table>\n",
       "</div>"
      ],
      "text/plain": [
       "   gender  ever_married  work_type  Residence_type  smoking_status        bmi  \\\n",
       "0       1             1          2               1               1  36.600000   \n",
       "1       0             1          3               0               2  28.893237   \n",
       "2       1             1          2               0               2  32.500000   \n",
       "3       0             1          2               1               3  34.400000   \n",
       "4       0             1          3               0               2  24.000000   \n",
       "\n",
       "   age  hypertension  heart_disease  avg_glucose_level  \n",
       "0   67             0              1             228.69  \n",
       "1   61             0              0             202.21  \n",
       "2   80             0              1             105.92  \n",
       "3   49             0              0             171.23  \n",
       "4   79             1              0             174.12  "
      ]
     },
     "execution_count": 45,
     "metadata": {},
     "output_type": "execute_result"
    }
   ],
   "source": [
    "x.head()"
   ]
  },
  {
   "cell_type": "code",
   "execution_count": 46,
   "metadata": {
    "execution": {
     "iopub.execute_input": "2021-03-22T17:12:29.942314Z",
     "iopub.status.busy": "2021-03-22T17:12:29.941607Z",
     "iopub.status.idle": "2021-03-22T17:12:29.944614Z",
     "shell.execute_reply": "2021-03-22T17:12:29.945212Z"
    },
    "papermill": {
     "duration": 0.077167,
     "end_time": "2021-03-22T17:12:29.945404",
     "exception": false,
     "start_time": "2021-03-22T17:12:29.868237",
     "status": "completed"
    },
    "tags": []
   },
   "outputs": [
    {
     "data": {
      "text/plain": [
       "0    1\n",
       "1    1\n",
       "2    1\n",
       "3    1\n",
       "4    1\n",
       "Name: stroke, dtype: int64"
      ]
     },
     "execution_count": 46,
     "metadata": {},
     "output_type": "execute_result"
    }
   ],
   "source": [
    "y[:5]"
   ]
  },
  {
   "cell_type": "code",
   "execution_count": 47,
   "metadata": {
    "execution": {
     "iopub.execute_input": "2021-03-22T17:12:30.078170Z",
     "iopub.status.busy": "2021-03-22T17:12:30.077273Z",
     "iopub.status.idle": "2021-03-22T17:12:30.088206Z",
     "shell.execute_reply": "2021-03-22T17:12:30.087601Z"
    },
    "papermill": {
     "duration": 0.077063,
     "end_time": "2021-03-22T17:12:30.088368",
     "exception": false,
     "start_time": "2021-03-22T17:12:30.011305",
     "status": "completed"
    },
    "tags": []
   },
   "outputs": [],
   "source": [
    "from sklearn.preprocessing import Normalizer\n",
    "scaler=Normalizer()\n",
    "x_scaled=scaler.fit_transform(x)"
   ]
  },
  {
   "cell_type": "code",
   "execution_count": 48,
   "metadata": {
    "execution": {
     "iopub.execute_input": "2021-03-22T17:12:30.220710Z",
     "iopub.status.busy": "2021-03-22T17:12:30.219763Z",
     "iopub.status.idle": "2021-03-22T17:12:30.301398Z",
     "shell.execute_reply": "2021-03-22T17:12:30.301953Z"
    },
    "papermill": {
     "duration": 0.149223,
     "end_time": "2021-03-22T17:12:30.302132",
     "exception": false,
     "start_time": "2021-03-22T17:12:30.152909",
     "status": "completed"
    },
    "tags": []
   },
   "outputs": [],
   "source": [
    "from sklearn.model_selection import train_test_split\n",
    "X_train, X_test, y_train, y_test = train_test_split(x_scaled,y,test_size=0.25)"
   ]
  },
  {
   "cell_type": "code",
   "execution_count": 49,
   "metadata": {
    "execution": {
     "iopub.execute_input": "2021-03-22T17:12:30.434140Z",
     "iopub.status.busy": "2021-03-22T17:12:30.433285Z",
     "iopub.status.idle": "2021-03-22T17:12:31.392038Z",
     "shell.execute_reply": "2021-03-22T17:12:31.391353Z"
    },
    "papermill": {
     "duration": 1.026124,
     "end_time": "2021-03-22T17:12:31.392186",
     "exception": false,
     "start_time": "2021-03-22T17:12:30.366062",
     "status": "completed"
    },
    "tags": []
   },
   "outputs": [
    {
     "name": "stdout",
     "output_type": "stream",
     "text": [
      "Before Over Sampling 3737\n"
     ]
    },
    {
     "data": {
      "image/png": "[encoded data removed]",
      "text/plain": [
       "<Figure size 432x288 with 1 Axes>"
      ]
     },
     "metadata": {},
     "output_type": "display_data"
    },
    {
     "name": "stdout",
     "output_type": "stream",
     "text": [
      "After Over Sampling 7086\n"
     ]
    },
    {
     "data": {
      "image/png": "[encoded data removed]",
      "text/plain": [
       "<Figure size 432x288 with 1 Axes>"
      ]
     },
     "metadata": {},
     "output_type": "display_data"
    }
   ],
   "source": [
    "from imblearn.over_sampling import SMOTE\n",
    "counter=len(y_train)\n",
    "print('Before Over Sampling', counter)\n",
    "sns.countplot(y_train)\n",
    "plt.title('Plotting of number count before sampling')\n",
    "plt.show()\n",
    "#oversampling the train datsets using SMOTE\n",
    "sm=SMOTE()\n",
    "X_train_sm, y_train_sm=sm.fit_resample(X_train,y_train)\n",
    "counter=len(y_train_sm)\n",
    "print('After Over Sampling', counter)\n",
    "plt.title('Plotting of number count after sampling')\n",
    "sns.countplot(y_train_sm)\n",
    "plt.show()"
   ]
  },
  {
   "cell_type": "markdown",
   "metadata": {
    "papermill": {
     "duration": 0.069687,
     "end_time": "2021-03-22T17:12:31.529733",
     "exception": false,
     "start_time": "2021-03-22T17:12:31.460046",
     "status": "completed"
    },
    "tags": []
   },
   "source": [
    "# Making The model by using RandomForestClassifier"
   ]
  },
  {
   "cell_type": "code",
   "execution_count": 50,
   "metadata": {
    "execution": {
     "iopub.execute_input": "2021-03-22T17:12:31.674799Z",
     "iopub.status.busy": "2021-03-22T17:12:31.673997Z",
     "iopub.status.idle": "2021-03-22T17:12:32.266704Z",
     "shell.execute_reply": "2021-03-22T17:12:32.266013Z"
    },
    "papermill": {
     "duration": 0.665224,
     "end_time": "2021-03-22T17:12:32.266860",
     "exception": false,
     "start_time": "2021-03-22T17:12:31.601636",
     "status": "completed"
    },
    "tags": []
   },
   "outputs": [
    {
     "data": {
      "text/plain": [
       "RandomForestClassifier(n_estimators=40)"
      ]
     },
     "execution_count": 50,
     "metadata": {},
     "output_type": "execute_result"
    }
   ],
   "source": [
    "from sklearn.ensemble import RandomForestClassifier\n",
    "from sklearn.metrics import accuracy_score, classification_report, plot_confusion_matrix\n",
    "model_RF=RandomForestClassifier(n_estimators=40)\n",
    "model_RF.fit(X_train_sm,y_train_sm)"
   ]
  },
  {
   "cell_type": "code",
   "execution_count": 51,
   "metadata": {
    "execution": {
     "iopub.execute_input": "2021-03-22T17:12:32.405595Z",
     "iopub.status.busy": "2021-03-22T17:12:32.404833Z",
     "iopub.status.idle": "2021-03-22T17:12:32.422904Z",
     "shell.execute_reply": "2021-03-22T17:12:32.423415Z"
    },
    "papermill": {
     "duration": 0.090486,
     "end_time": "2021-03-22T17:12:32.423601",
     "exception": false,
     "start_time": "2021-03-22T17:12:32.333115",
     "status": "completed"
    },
    "tags": []
   },
   "outputs": [
    {
     "data": {
      "text/plain": [
       "93.25842696629213"
      ]
     },
     "execution_count": 51,
     "metadata": {},
     "output_type": "execute_result"
    }
   ],
   "source": [
    "model_RF.score(X_test,y_test)*100"
   ]
  },
  {
   "cell_type": "code",
   "execution_count": 52,
   "metadata": {
    "execution": {
     "iopub.execute_input": "2021-03-22T17:12:32.562357Z",
     "iopub.status.busy": "2021-03-22T17:12:32.561204Z",
     "iopub.status.idle": "2021-03-22T17:12:32.578399Z",
     "shell.execute_reply": "2021-03-22T17:12:32.578956Z"
    },
    "papermill": {
     "duration": 0.089306,
     "end_time": "2021-03-22T17:12:32.579137",
     "exception": false,
     "start_time": "2021-03-22T17:12:32.489831",
     "status": "completed"
    },
    "tags": []
   },
   "outputs": [
    {
     "data": {
      "text/plain": [
       "array([0, 0, 0, 0, 0])"
      ]
     },
     "execution_count": 52,
     "metadata": {},
     "output_type": "execute_result"
    }
   ],
   "source": [
    "pred_RF=model_RF.predict(X_test)\n",
    "pred_RF[:5]"
   ]
  },
  {
   "cell_type": "code",
   "execution_count": 53,
   "metadata": {
    "execution": {
     "iopub.execute_input": "2021-03-22T17:12:32.716519Z",
     "iopub.status.busy": "2021-03-22T17:12:32.715744Z",
     "iopub.status.idle": "2021-03-22T17:12:32.723398Z",
     "shell.execute_reply": "2021-03-22T17:12:32.722709Z"
    },
    "papermill": {
     "duration": 0.077714,
     "end_time": "2021-03-22T17:12:32.723544",
     "exception": false,
     "start_time": "2021-03-22T17:12:32.645830",
     "status": "completed"
    },
    "tags": []
   },
   "outputs": [
    {
     "name": "stdout",
     "output_type": "stream",
     "text": [
      "Accuracy Score : 93.26%\n"
     ]
    }
   ],
   "source": [
    "print(f\"Accuracy Score : {round(accuracy_score(y_test, pred_RF) * 100, 2)}%\")"
   ]
  },
  {
   "cell_type": "code",
   "execution_count": 54,
   "metadata": {
    "execution": {
     "iopub.execute_input": "2021-03-22T17:12:32.864393Z",
     "iopub.status.busy": "2021-03-22T17:12:32.863692Z",
     "iopub.status.idle": "2021-03-22T17:12:32.875767Z",
     "shell.execute_reply": "2021-03-22T17:12:32.875174Z"
    },
    "papermill": {
     "duration": 0.08489,
     "end_time": "2021-03-22T17:12:32.875926",
     "exception": false,
     "start_time": "2021-03-22T17:12:32.791036",
     "status": "completed"
    },
    "tags": []
   },
   "outputs": [
    {
     "name": "stdout",
     "output_type": "stream",
     "text": [
      "              precision    recall  f1-score   support\n",
      "\n",
      "           0       0.96      0.97      0.96      1194\n",
      "           1       0.15      0.13      0.14        52\n",
      "\n",
      "    accuracy                           0.93      1246\n",
      "   macro avg       0.56      0.55      0.55      1246\n",
      "weighted avg       0.93      0.93      0.93      1246\n",
      "\n"
     ]
    }
   ],
   "source": [
    "print(classification_report(y_test, pred_RF))"
   ]
  },
  {
   "cell_type": "code",
   "execution_count": 55,
   "metadata": {
    "execution": {
     "iopub.execute_input": "2021-03-22T17:12:33.021816Z",
     "iopub.status.busy": "2021-03-22T17:12:33.020914Z",
     "iopub.status.idle": "2021-03-22T17:12:33.031999Z",
     "shell.execute_reply": "2021-03-22T17:12:33.032535Z"
    },
    "papermill": {
     "duration": 0.087869,
     "end_time": "2021-03-22T17:12:33.032744",
     "exception": false,
     "start_time": "2021-03-22T17:12:32.944875",
     "status": "completed"
    },
    "tags": []
   },
   "outputs": [
    {
     "data": {
      "text/plain": [
       "array([[1155,   39],\n",
       "       [  45,    7]])"
      ]
     },
     "execution_count": 55,
     "metadata": {},
     "output_type": "execute_result"
    }
   ],
   "source": [
    "from sklearn.metrics import confusion_matrix\n",
    "cm=confusion_matrix(y_test,pred_RF)\n",
    "cm"
   ]
  },
  {
   "cell_type": "code",
   "execution_count": 56,
   "metadata": {
    "execution": {
     "iopub.execute_input": "2021-03-22T17:12:33.180193Z",
     "iopub.status.busy": "2021-03-22T17:12:33.179288Z",
     "iopub.status.idle": "2021-03-22T17:12:33.183725Z",
     "shell.execute_reply": "2021-03-22T17:12:33.183139Z"
    },
    "papermill": {
     "duration": 0.079868,
     "end_time": "2021-03-22T17:12:33.183882",
     "exception": false,
     "start_time": "2021-03-22T17:12:33.104014",
     "status": "completed"
    },
    "tags": []
   },
   "outputs": [],
   "source": [
    "from sklearn.linear_model import LogisticRegression\n",
    "from sklearn.ensemble import RandomForestClassifier\n",
    "from sklearn.tree import  DecisionTreeClassifier\n",
    "from sklearn.svm import SVC\n",
    "\n",
    "from sklearn.model_selection import cross_val_score, GridSearchCV"
   ]
  },
  {
   "cell_type": "code",
   "execution_count": 57,
   "metadata": {
    "execution": {
     "iopub.execute_input": "2021-03-22T17:12:33.331344Z",
     "iopub.status.busy": "2021-03-22T17:12:33.330635Z",
     "iopub.status.idle": "2021-03-22T17:12:33.334045Z",
     "shell.execute_reply": "2021-03-22T17:12:33.333391Z"
    },
    "papermill": {
     "duration": 0.081345,
     "end_time": "2021-03-22T17:12:33.334191",
     "exception": false,
     "start_time": "2021-03-22T17:12:33.252846",
     "status": "completed"
    },
    "tags": []
   },
   "outputs": [],
   "source": [
    "model_params = {\n",
    "    'svm': {\n",
    "        'model': SVC(gamma='auto'),\n",
    "        'params' : {\n",
    "            'C': [1,10,20,25,30,40],\n",
    "            'kernel': ['rbf','linear']\n",
    "        }  \n",
    "    },\n",
    "    'random_forest': {\n",
    "        'model': RandomForestClassifier(),\n",
    "        'params' : {\n",
    "            'n_estimators': [1,5,10,15,20,25,30]\n",
    "        }\n",
    "    },\n",
    "    'logistic_regression' : {\n",
    "        'model': LogisticRegression(solver='liblinear'),\n",
    "        'params': {\n",
    "            'C': [1,5,10,15,20,25]\n",
    "        }\n",
    "    },\n",
    "    'decision_tree': {\n",
    "        'model': DecisionTreeClassifier(),\n",
    "        'params':{\n",
    "            'criterion':['gini','entropy']\n",
    "        }\n",
    "    }\n",
    "}"
   ]
  },
  {
   "cell_type": "code",
   "execution_count": 58,
   "metadata": {
    "execution": {
     "iopub.execute_input": "2021-03-22T17:12:33.479087Z",
     "iopub.status.busy": "2021-03-22T17:12:33.478294Z",
     "iopub.status.idle": "2021-03-22T17:12:42.363094Z",
     "shell.execute_reply": "2021-03-22T17:12:42.361976Z"
    },
    "papermill": {
     "duration": 8.960097,
     "end_time": "2021-03-22T17:12:42.363266",
     "exception": false,
     "start_time": "2021-03-22T17:12:33.403169",
     "status": "completed"
    },
    "tags": []
   },
   "outputs": [
    {
     "data": {
      "text/html": [
       "<div>\n",
       "<style scoped>\n",
       "    .dataframe tbody tr th:only-of-type {\n",
       "        vertical-align: middle;\n",
       "    }\n",
       "\n",
       "    .dataframe tbody tr th {\n",
       "        vertical-align: top;\n",
       "    }\n",
       "\n",
       "    .dataframe thead th {\n",
       "        text-align: right;\n",
       "    }\n",
       "</style>\n",
       "<table border=\"1\" class=\"dataframe\">\n",
       "  <thead>\n",
       "    <tr style=\"text-align: right;\">\n",
       "      <th></th>\n",
       "      <th>model</th>\n",
       "      <th>best_score</th>\n",
       "      <th>best_params</th>\n",
       "    </tr>\n",
       "  </thead>\n",
       "  <tbody>\n",
       "    <tr>\n",
       "      <th>0</th>\n",
       "      <td>svm</td>\n",
       "      <td>0.948087</td>\n",
       "      <td>{'C': 1, 'kernel': 'rbf'}</td>\n",
       "    </tr>\n",
       "    <tr>\n",
       "      <th>1</th>\n",
       "      <td>random_forest</td>\n",
       "      <td>0.945144</td>\n",
       "      <td>{'n_estimators': 20}</td>\n",
       "    </tr>\n",
       "    <tr>\n",
       "      <th>2</th>\n",
       "      <td>logistic_regression</td>\n",
       "      <td>0.948087</td>\n",
       "      <td>{'C': 1}</td>\n",
       "    </tr>\n",
       "    <tr>\n",
       "      <th>3</th>\n",
       "      <td>decision_tree</td>\n",
       "      <td>0.907677</td>\n",
       "      <td>{'criterion': 'gini'}</td>\n",
       "    </tr>\n",
       "  </tbody>\n",
       "</table>\n",
       "</div>"
      ],
      "text/plain": [
       "                 model  best_score                best_params\n",
       "0                  svm    0.948087  {'C': 1, 'kernel': 'rbf'}\n",
       "1        random_forest    0.945144       {'n_estimators': 20}\n",
       "2  logistic_regression    0.948087                   {'C': 1}\n",
       "3        decision_tree    0.907677      {'criterion': 'gini'}"
      ]
     },
     "execution_count": 58,
     "metadata": {},
     "output_type": "execute_result"
    }
   ],
   "source": [
    "scores = []\n",
    "\n",
    "for model_name, mp in model_params.items():\n",
    "    clf =  GridSearchCV(mp['model'], mp['params'], cv=5, return_train_score=False)\n",
    "    clf.fit(X_train, y_train)\n",
    "    scores.append({\n",
    "        'model': model_name,\n",
    "        'best_score': clf.best_score_,\n",
    "        'best_params': clf.best_params_\n",
    "    })\n",
    "    \n",
    "df_score = pd.DataFrame(scores,columns=['model','best_score','best_params'])\n",
    "df_score"
   ]
  },
  {
   "cell_type": "markdown",
   "metadata": {
    "papermill": {
     "duration": 0.071842,
     "end_time": "2021-03-22T17:12:42.510439",
     "exception": false,
     "start_time": "2021-03-22T17:12:42.438597",
     "status": "completed"
    },
    "tags": []
   },
   "source": [
    "**Hence, we can conclude that this dataset is working best in Logistic Regression and  SVM  with Accuracy score 0.95 and 0.95 respectively.**"
   ]
  },
  {
   "cell_type": "code",
   "execution_count": null,
   "metadata": {
    "papermill": {
     "duration": 0.072155,
     "end_time": "2021-03-22T17:12:42.655246",
     "exception": false,
     "start_time": "2021-03-22T17:12:42.583091",
     "status": "completed"
    },
    "tags": []
   },
   "outputs": [],
   "source": []
  }
 ],
 "metadata": {
  "kernelspec": {
   "display_name": "Python 3",
   "language": "python",
   "name": "python3"
  },
  "language_info": {
   "codemirror_mode": {
    "name": "ipython",
    "version": 3
   },
   "file_extension": ".py",
   "mimetype": "text/x-python",
   "name": "python",
   "nbconvert_exporter": "python",
   "pygments_lexer": "ipython3",
   "version": "3.7.9"
  },
  "papermill": {
   "default_parameters": {},
   "duration": 29.834984,
   "end_time": "2021-03-22T17:12:43.436319",
   "environment_variables": {},
   "exception": null,
   "input_path": "__notebook__.ipynb",
   "output_path": "__notebook__.ipynb",
   "parameters": {},
   "start_time": "2021-03-22T17:12:13.601335",
   "version": "2.2.2"
  }
 },
 "nbformat": 4,
 "nbformat_minor": 4
}
